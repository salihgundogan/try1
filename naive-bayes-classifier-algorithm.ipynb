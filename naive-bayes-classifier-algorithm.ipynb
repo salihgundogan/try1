{
 "cells": [
  {
   "cell_type": "markdown",
   "id": "5e659459",
   "metadata": {
    "papermill": {
     "duration": 0.004829,
     "end_time": "2025-08-13T13:46:53.060511",
     "exception": false,
     "start_time": "2025-08-13T13:46:53.055682",
     "status": "completed"
    },
    "tags": []
   },
   "source": [
    "ilk olarak gerekli kütüphaneleri import edfityoruz"
   ]
  },
  {
   "cell_type": "code",
   "execution_count": 1,
   "id": "2f6de645",
   "metadata": {
    "execution": {
     "iopub.execute_input": "2025-08-13T13:46:53.069567Z",
     "iopub.status.busy": "2025-08-13T13:46:53.068726Z",
     "iopub.status.idle": "2025-08-13T13:46:54.947027Z",
     "shell.execute_reply": "2025-08-13T13:46:54.946112Z"
    },
    "papermill": {
     "duration": 1.884461,
     "end_time": "2025-08-13T13:46:54.948772",
     "exception": false,
     "start_time": "2025-08-13T13:46:53.064311",
     "status": "completed"
    },
    "tags": []
   },
   "outputs": [],
   "source": [
    "import pandas as pd\n",
    "from matplotlib import pyplot as plt\n",
    "%matplotlib inline"
   ]
  },
  {
   "cell_type": "markdown",
   "id": "961d2d91",
   "metadata": {
    "papermill": {
     "duration": 0.003153,
     "end_time": "2025-08-13T13:46:54.955803",
     "exception": false,
     "start_time": "2025-08-13T13:46:54.952650",
     "status": "completed"
    },
    "tags": []
   },
   "source": [
    "sonrasında verisetimizi çektik:"
   ]
  },
  {
   "cell_type": "code",
   "execution_count": 2,
   "id": "f9b22c16",
   "metadata": {
    "execution": {
     "iopub.execute_input": "2025-08-13T13:46:54.964329Z",
     "iopub.status.busy": "2025-08-13T13:46:54.963581Z",
     "iopub.status.idle": "2025-08-13T13:46:56.835944Z",
     "shell.execute_reply": "2025-08-13T13:46:56.835153Z"
    },
    "papermill": {
     "duration": 1.87829,
     "end_time": "2025-08-13T13:46:56.837525",
     "exception": false,
     "start_time": "2025-08-13T13:46:54.959235",
     "status": "completed"
    },
    "tags": []
   },
   "outputs": [],
   "source": [
    "from sklearn.datasets import load_wine\n",
    "wine = load_wine()"
   ]
  },
  {
   "cell_type": "markdown",
   "id": "61630f5a",
   "metadata": {
    "papermill": {
     "duration": 0.003318,
     "end_time": "2025-08-13T13:46:56.844518",
     "exception": false,
     "start_time": "2025-08-13T13:46:56.841200",
     "status": "completed"
    },
    "tags": []
   },
   "source": [
    "verimizin tün içeriğini görüntülemek için :"
   ]
  },
  {
   "cell_type": "code",
   "execution_count": 3,
   "id": "606905a0",
   "metadata": {
    "execution": {
     "iopub.execute_input": "2025-08-13T13:46:56.853703Z",
     "iopub.status.busy": "2025-08-13T13:46:56.853058Z",
     "iopub.status.idle": "2025-08-13T13:46:56.860093Z",
     "shell.execute_reply": "2025-08-13T13:46:56.859113Z"
    },
    "papermill": {
     "duration": 0.013633,
     "end_time": "2025-08-13T13:46:56.862064",
     "exception": false,
     "start_time": "2025-08-13T13:46:56.848431",
     "status": "completed"
    },
    "tags": []
   },
   "outputs": [
    {
     "data": {
      "text/plain": [
       "['DESCR', 'data', 'feature_names', 'frame', 'target', 'target_names']"
      ]
     },
     "execution_count": 3,
     "metadata": {},
     "output_type": "execute_result"
    }
   ],
   "source": [
    "dir(wine)"
   ]
  },
  {
   "cell_type": "markdown",
   "id": "6a6029fa",
   "metadata": {
    "papermill": {
     "duration": 0.00374,
     "end_time": "2025-08-13T13:46:56.869478",
     "exception": false,
     "start_time": "2025-08-13T13:46:56.865738",
     "status": "completed"
    },
    "tags": []
   },
   "source": [
    "herhangi bir verinin formatını görmek için:"
   ]
  },
  {
   "cell_type": "code",
   "execution_count": 4,
   "id": "32cc9000",
   "metadata": {
    "execution": {
     "iopub.execute_input": "2025-08-13T13:46:56.879721Z",
     "iopub.status.busy": "2025-08-13T13:46:56.879438Z",
     "iopub.status.idle": "2025-08-13T13:46:56.886309Z",
     "shell.execute_reply": "2025-08-13T13:46:56.885428Z"
    },
    "papermill": {
     "duration": 0.012905,
     "end_time": "2025-08-13T13:46:56.887772",
     "exception": false,
     "start_time": "2025-08-13T13:46:56.874867",
     "status": "completed"
    },
    "tags": []
   },
   "outputs": [
    {
     "data": {
      "text/plain": [
       "array([[1.423e+01, 1.710e+00, 2.430e+00, ..., 1.040e+00, 3.920e+00,\n",
       "        1.065e+03],\n",
       "       [1.320e+01, 1.780e+00, 2.140e+00, ..., 1.050e+00, 3.400e+00,\n",
       "        1.050e+03],\n",
       "       [1.316e+01, 2.360e+00, 2.670e+00, ..., 1.030e+00, 3.170e+00,\n",
       "        1.185e+03],\n",
       "       ...,\n",
       "       [1.327e+01, 4.280e+00, 2.260e+00, ..., 5.900e-01, 1.560e+00,\n",
       "        8.350e+02],\n",
       "       [1.317e+01, 2.590e+00, 2.370e+00, ..., 6.000e-01, 1.620e+00,\n",
       "        8.400e+02],\n",
       "       [1.413e+01, 4.100e+00, 2.740e+00, ..., 6.100e-01, 1.600e+00,\n",
       "        5.600e+02]])"
      ]
     },
     "execution_count": 4,
     "metadata": {},
     "output_type": "execute_result"
    }
   ],
   "source": [
    "wine.data"
   ]
  },
  {
   "cell_type": "markdown",
   "id": "aa4dfbd3",
   "metadata": {
    "papermill": {
     "duration": 0.003395,
     "end_time": "2025-08-13T13:46:56.895807",
     "exception": false,
     "start_time": "2025-08-13T13:46:56.892412",
     "status": "completed"
    },
    "tags": []
   },
   "source": [
    "verileirmizin bulunduğu matrisin kolon başlıkları için:"
   ]
  },
  {
   "cell_type": "code",
   "execution_count": 5,
   "id": "b5175ff6",
   "metadata": {
    "execution": {
     "iopub.execute_input": "2025-08-13T13:46:56.904994Z",
     "iopub.status.busy": "2025-08-13T13:46:56.904481Z",
     "iopub.status.idle": "2025-08-13T13:46:56.912135Z",
     "shell.execute_reply": "2025-08-13T13:46:56.911313Z"
    },
    "papermill": {
     "duration": 0.014593,
     "end_time": "2025-08-13T13:46:56.913990",
     "exception": false,
     "start_time": "2025-08-13T13:46:56.899397",
     "status": "completed"
    },
    "tags": []
   },
   "outputs": [
    {
     "data": {
      "text/plain": [
       "['alcohol',\n",
       " 'malic_acid',\n",
       " 'ash',\n",
       " 'alcalinity_of_ash',\n",
       " 'magnesium',\n",
       " 'total_phenols',\n",
       " 'flavanoids',\n",
       " 'nonflavanoid_phenols',\n",
       " 'proanthocyanins',\n",
       " 'color_intensity',\n",
       " 'hue',\n",
       " 'od280/od315_of_diluted_wines',\n",
       " 'proline']"
      ]
     },
     "execution_count": 5,
     "metadata": {},
     "output_type": "execute_result"
    }
   ],
   "source": [
    "wine.feature_names"
   ]
  },
  {
   "cell_type": "markdown",
   "id": "b5ba0d3a",
   "metadata": {
    "papermill": {
     "duration": 0.008232,
     "end_time": "2025-08-13T13:46:56.931044",
     "exception": false,
     "start_time": "2025-08-13T13:46:56.922812",
     "status": "completed"
    },
    "tags": []
   },
   "source": [
    "artık verilerimi işlenmeye hazır hale getiriyoruz. yani pandas ile hızlıca işlenebilir hale getiriyoruz. (dataframe):"
   ]
  },
  {
   "cell_type": "code",
   "execution_count": 6,
   "id": "c090834d",
   "metadata": {
    "execution": {
     "iopub.execute_input": "2025-08-13T13:46:56.941246Z",
     "iopub.status.busy": "2025-08-13T13:46:56.940804Z",
     "iopub.status.idle": "2025-08-13T13:46:56.972556Z",
     "shell.execute_reply": "2025-08-13T13:46:56.971650Z"
    },
    "papermill": {
     "duration": 0.038021,
     "end_time": "2025-08-13T13:46:56.974085",
     "exception": false,
     "start_time": "2025-08-13T13:46:56.936064",
     "status": "completed"
    },
    "tags": []
   },
   "outputs": [
    {
     "data": {
      "text/html": [
       "<div>\n",
       "<style scoped>\n",
       "    .dataframe tbody tr th:only-of-type {\n",
       "        vertical-align: middle;\n",
       "    }\n",
       "\n",
       "    .dataframe tbody tr th {\n",
       "        vertical-align: top;\n",
       "    }\n",
       "\n",
       "    .dataframe thead th {\n",
       "        text-align: right;\n",
       "    }\n",
       "</style>\n",
       "<table border=\"1\" class=\"dataframe\">\n",
       "  <thead>\n",
       "    <tr style=\"text-align: right;\">\n",
       "      <th></th>\n",
       "      <th>alcohol</th>\n",
       "      <th>malic_acid</th>\n",
       "      <th>ash</th>\n",
       "      <th>alcalinity_of_ash</th>\n",
       "      <th>magnesium</th>\n",
       "      <th>total_phenols</th>\n",
       "      <th>flavanoids</th>\n",
       "      <th>nonflavanoid_phenols</th>\n",
       "      <th>proanthocyanins</th>\n",
       "      <th>color_intensity</th>\n",
       "      <th>hue</th>\n",
       "      <th>od280/od315_of_diluted_wines</th>\n",
       "      <th>proline</th>\n",
       "    </tr>\n",
       "  </thead>\n",
       "  <tbody>\n",
       "    <tr>\n",
       "      <th>0</th>\n",
       "      <td>14.23</td>\n",
       "      <td>1.71</td>\n",
       "      <td>2.43</td>\n",
       "      <td>15.6</td>\n",
       "      <td>127.0</td>\n",
       "      <td>2.80</td>\n",
       "      <td>3.06</td>\n",
       "      <td>0.28</td>\n",
       "      <td>2.29</td>\n",
       "      <td>5.64</td>\n",
       "      <td>1.04</td>\n",
       "      <td>3.92</td>\n",
       "      <td>1065.0</td>\n",
       "    </tr>\n",
       "    <tr>\n",
       "      <th>1</th>\n",
       "      <td>13.20</td>\n",
       "      <td>1.78</td>\n",
       "      <td>2.14</td>\n",
       "      <td>11.2</td>\n",
       "      <td>100.0</td>\n",
       "      <td>2.65</td>\n",
       "      <td>2.76</td>\n",
       "      <td>0.26</td>\n",
       "      <td>1.28</td>\n",
       "      <td>4.38</td>\n",
       "      <td>1.05</td>\n",
       "      <td>3.40</td>\n",
       "      <td>1050.0</td>\n",
       "    </tr>\n",
       "    <tr>\n",
       "      <th>2</th>\n",
       "      <td>13.16</td>\n",
       "      <td>2.36</td>\n",
       "      <td>2.67</td>\n",
       "      <td>18.6</td>\n",
       "      <td>101.0</td>\n",
       "      <td>2.80</td>\n",
       "      <td>3.24</td>\n",
       "      <td>0.30</td>\n",
       "      <td>2.81</td>\n",
       "      <td>5.68</td>\n",
       "      <td>1.03</td>\n",
       "      <td>3.17</td>\n",
       "      <td>1185.0</td>\n",
       "    </tr>\n",
       "    <tr>\n",
       "      <th>3</th>\n",
       "      <td>14.37</td>\n",
       "      <td>1.95</td>\n",
       "      <td>2.50</td>\n",
       "      <td>16.8</td>\n",
       "      <td>113.0</td>\n",
       "      <td>3.85</td>\n",
       "      <td>3.49</td>\n",
       "      <td>0.24</td>\n",
       "      <td>2.18</td>\n",
       "      <td>7.80</td>\n",
       "      <td>0.86</td>\n",
       "      <td>3.45</td>\n",
       "      <td>1480.0</td>\n",
       "    </tr>\n",
       "    <tr>\n",
       "      <th>4</th>\n",
       "      <td>13.24</td>\n",
       "      <td>2.59</td>\n",
       "      <td>2.87</td>\n",
       "      <td>21.0</td>\n",
       "      <td>118.0</td>\n",
       "      <td>2.80</td>\n",
       "      <td>2.69</td>\n",
       "      <td>0.39</td>\n",
       "      <td>1.82</td>\n",
       "      <td>4.32</td>\n",
       "      <td>1.04</td>\n",
       "      <td>2.93</td>\n",
       "      <td>735.0</td>\n",
       "    </tr>\n",
       "  </tbody>\n",
       "</table>\n",
       "</div>"
      ],
      "text/plain": [
       "   alcohol  malic_acid   ash  alcalinity_of_ash  magnesium  total_phenols  \\\n",
       "0    14.23        1.71  2.43               15.6      127.0           2.80   \n",
       "1    13.20        1.78  2.14               11.2      100.0           2.65   \n",
       "2    13.16        2.36  2.67               18.6      101.0           2.80   \n",
       "3    14.37        1.95  2.50               16.8      113.0           3.85   \n",
       "4    13.24        2.59  2.87               21.0      118.0           2.80   \n",
       "\n",
       "   flavanoids  nonflavanoid_phenols  proanthocyanins  color_intensity   hue  \\\n",
       "0        3.06                  0.28             2.29             5.64  1.04   \n",
       "1        2.76                  0.26             1.28             4.38  1.05   \n",
       "2        3.24                  0.30             2.81             5.68  1.03   \n",
       "3        3.49                  0.24             2.18             7.80  0.86   \n",
       "4        2.69                  0.39             1.82             4.32  1.04   \n",
       "\n",
       "   od280/od315_of_diluted_wines  proline  \n",
       "0                          3.92   1065.0  \n",
       "1                          3.40   1050.0  \n",
       "2                          3.17   1185.0  \n",
       "3                          3.45   1480.0  \n",
       "4                          2.93    735.0  "
      ]
     },
     "execution_count": 6,
     "metadata": {},
     "output_type": "execute_result"
    }
   ],
   "source": [
    "df = pd.DataFrame(wine.data,columns=wine.feature_names)\n",
    "df.head()"
   ]
  },
  {
   "cell_type": "markdown",
   "id": "d9e274a8",
   "metadata": {
    "papermill": {
     "duration": 0.003976,
     "end_time": "2025-08-13T13:46:56.982096",
     "exception": false,
     "start_time": "2025-08-13T13:46:56.978120",
     "status": "completed"
    },
    "tags": []
   },
   "source": [
    "boş olan hücreleri görmek için:"
   ]
  },
  {
   "cell_type": "code",
   "execution_count": 7,
   "id": "700c9ac5",
   "metadata": {
    "execution": {
     "iopub.execute_input": "2025-08-13T13:46:56.993028Z",
     "iopub.status.busy": "2025-08-13T13:46:56.992458Z",
     "iopub.status.idle": "2025-08-13T13:46:57.003287Z",
     "shell.execute_reply": "2025-08-13T13:46:57.002440Z"
    },
    "papermill": {
     "duration": 0.018727,
     "end_time": "2025-08-13T13:46:57.005033",
     "exception": false,
     "start_time": "2025-08-13T13:46:56.986306",
     "status": "completed"
    },
    "tags": []
   },
   "outputs": [
    {
     "data": {
      "text/plain": [
       "Index([], dtype='object')"
      ]
     },
     "execution_count": 7,
     "metadata": {},
     "output_type": "execute_result"
    }
   ],
   "source": [
    "df.columns[df.isna().any()]"
   ]
  },
  {
   "cell_type": "markdown",
   "id": "5f56bc6f",
   "metadata": {
    "papermill": {
     "duration": 0.003937,
     "end_time": "2025-08-13T13:46:57.013364",
     "exception": false,
     "start_time": "2025-08-13T13:46:57.009427",
     "status": "completed"
    },
    "tags": []
   },
   "source": [
    "oluşturduğumuz tablonun kolon isimleri:"
   ]
  },
  {
   "cell_type": "code",
   "execution_count": 8,
   "id": "2ffac610",
   "metadata": {
    "execution": {
     "iopub.execute_input": "2025-08-13T13:46:57.022939Z",
     "iopub.status.busy": "2025-08-13T13:46:57.022448Z",
     "iopub.status.idle": "2025-08-13T13:46:57.029715Z",
     "shell.execute_reply": "2025-08-13T13:46:57.028864Z"
    },
    "papermill": {
     "duration": 0.013704,
     "end_time": "2025-08-13T13:46:57.031030",
     "exception": false,
     "start_time": "2025-08-13T13:46:57.017326",
     "status": "completed"
    },
    "tags": []
   },
   "outputs": [
    {
     "data": {
      "text/plain": [
       "Index(['alcohol', 'malic_acid', 'ash', 'alcalinity_of_ash', 'magnesium',\n",
       "       'total_phenols', 'flavanoids', 'nonflavanoid_phenols',\n",
       "       'proanthocyanins', 'color_intensity', 'hue',\n",
       "       'od280/od315_of_diluted_wines', 'proline'],\n",
       "      dtype='object')"
      ]
     },
     "execution_count": 8,
     "metadata": {},
     "output_type": "execute_result"
    }
   ],
   "source": [
    "df.columns"
   ]
  },
  {
   "cell_type": "markdown",
   "id": "6e9ed1cb",
   "metadata": {
    "papermill": {
     "duration": 0.003815,
     "end_time": "2025-08-13T13:46:57.039322",
     "exception": false,
     "start_time": "2025-08-13T13:46:57.035507",
     "status": "completed"
    },
    "tags": []
   },
   "source": [
    "X değişkenini verisetimizdeki datalar olarak, y değişkenini de verisetimizdeki target yani modelin bilmesi gereken değer olarak ayarlıyoruz."
   ]
  },
  {
   "cell_type": "code",
   "execution_count": 9,
   "id": "2a23ca8e",
   "metadata": {
    "execution": {
     "iopub.execute_input": "2025-08-13T13:46:57.048745Z",
     "iopub.status.busy": "2025-08-13T13:46:57.048241Z",
     "iopub.status.idle": "2025-08-13T13:46:57.052163Z",
     "shell.execute_reply": "2025-08-13T13:46:57.051269Z"
    },
    "papermill": {
     "duration": 0.010284,
     "end_time": "2025-08-13T13:46:57.053681",
     "exception": false,
     "start_time": "2025-08-13T13:46:57.043397",
     "status": "completed"
    },
    "tags": []
   },
   "outputs": [],
   "source": [
    "X = wine.data"
   ]
  },
  {
   "cell_type": "code",
   "execution_count": 10,
   "id": "4f6a9a5f",
   "metadata": {
    "execution": {
     "iopub.execute_input": "2025-08-13T13:46:57.063551Z",
     "iopub.status.busy": "2025-08-13T13:46:57.063054Z",
     "iopub.status.idle": "2025-08-13T13:46:57.067984Z",
     "shell.execute_reply": "2025-08-13T13:46:57.067063Z"
    },
    "papermill": {
     "duration": 0.011638,
     "end_time": "2025-08-13T13:46:57.069522",
     "exception": false,
     "start_time": "2025-08-13T13:46:57.057884",
     "status": "completed"
    },
    "tags": []
   },
   "outputs": [],
   "source": [
    "y = wine.target"
   ]
  },
  {
   "cell_type": "markdown",
   "id": "db188a24",
   "metadata": {
    "papermill": {
     "duration": 0.003727,
     "end_time": "2025-08-13T13:46:57.077277",
     "exception": false,
     "start_time": "2025-08-13T13:46:57.073550",
     "status": "completed"
    },
    "tags": []
   },
   "source": [
    "modelimizin eğitim ve test datasıonı ayırdık. burada kullandğımız split fonksiyonu bu ayrımı dataset içinden radtgele indexler ile yapıyor."
   ]
  },
  {
   "cell_type": "code",
   "execution_count": 11,
   "id": "4e53c638",
   "metadata": {
    "execution": {
     "iopub.execute_input": "2025-08-13T13:46:57.087279Z",
     "iopub.status.busy": "2025-08-13T13:46:57.086350Z",
     "iopub.status.idle": "2025-08-13T13:46:57.206656Z",
     "shell.execute_reply": "2025-08-13T13:46:57.205780Z"
    },
    "papermill": {
     "duration": 0.127857,
     "end_time": "2025-08-13T13:46:57.209127",
     "exception": false,
     "start_time": "2025-08-13T13:46:57.081270",
     "status": "completed"
    },
    "tags": []
   },
   "outputs": [],
   "source": [
    "from sklearn.model_selection import train_test_split\n",
    "X_train, X_test, y_train, y_test = train_test_split(X, y, test_size = 0.3)"
   ]
  },
  {
   "cell_type": "markdown",
   "id": "37a850d0",
   "metadata": {
    "papermill": {
     "duration": 0.00709,
     "end_time": "2025-08-13T13:46:57.225852",
     "exception": false,
     "start_time": "2025-08-13T13:46:57.218762",
     "status": "completed"
    },
    "tags": []
   },
   "source": [
    "medelimizi import ettik ve kullanıma açmak için değişkene atadık. ardından eğitim verimiz ile eğittik"
   ]
  },
  {
   "cell_type": "code",
   "execution_count": 12,
   "id": "02b31127",
   "metadata": {
    "execution": {
     "iopub.execute_input": "2025-08-13T13:46:57.235965Z",
     "iopub.status.busy": "2025-08-13T13:46:57.234936Z",
     "iopub.status.idle": "2025-08-13T13:46:57.256583Z",
     "shell.execute_reply": "2025-08-13T13:46:57.255647Z"
    },
    "papermill": {
     "duration": 0.028368,
     "end_time": "2025-08-13T13:46:57.258358",
     "exception": false,
     "start_time": "2025-08-13T13:46:57.229990",
     "status": "completed"
    },
    "tags": []
   },
   "outputs": [
    {
     "data": {
      "text/html": [
       "<style>#sk-container-id-1 {color: black;background-color: white;}#sk-container-id-1 pre{padding: 0;}#sk-container-id-1 div.sk-toggleable {background-color: white;}#sk-container-id-1 label.sk-toggleable__label {cursor: pointer;display: block;width: 100%;margin-bottom: 0;padding: 0.3em;box-sizing: border-box;text-align: center;}#sk-container-id-1 label.sk-toggleable__label-arrow:before {content: \"▸\";float: left;margin-right: 0.25em;color: #696969;}#sk-container-id-1 label.sk-toggleable__label-arrow:hover:before {color: black;}#sk-container-id-1 div.sk-estimator:hover label.sk-toggleable__label-arrow:before {color: black;}#sk-container-id-1 div.sk-toggleable__content {max-height: 0;max-width: 0;overflow: hidden;text-align: left;background-color: #f0f8ff;}#sk-container-id-1 div.sk-toggleable__content pre {margin: 0.2em;color: black;border-radius: 0.25em;background-color: #f0f8ff;}#sk-container-id-1 input.sk-toggleable__control:checked~div.sk-toggleable__content {max-height: 200px;max-width: 100%;overflow: auto;}#sk-container-id-1 input.sk-toggleable__control:checked~label.sk-toggleable__label-arrow:before {content: \"▾\";}#sk-container-id-1 div.sk-estimator input.sk-toggleable__control:checked~label.sk-toggleable__label {background-color: #d4ebff;}#sk-container-id-1 div.sk-label input.sk-toggleable__control:checked~label.sk-toggleable__label {background-color: #d4ebff;}#sk-container-id-1 input.sk-hidden--visually {border: 0;clip: rect(1px 1px 1px 1px);clip: rect(1px, 1px, 1px, 1px);height: 1px;margin: -1px;overflow: hidden;padding: 0;position: absolute;width: 1px;}#sk-container-id-1 div.sk-estimator {font-family: monospace;background-color: #f0f8ff;border: 1px dotted black;border-radius: 0.25em;box-sizing: border-box;margin-bottom: 0.5em;}#sk-container-id-1 div.sk-estimator:hover {background-color: #d4ebff;}#sk-container-id-1 div.sk-parallel-item::after {content: \"\";width: 100%;border-bottom: 1px solid gray;flex-grow: 1;}#sk-container-id-1 div.sk-label:hover label.sk-toggleable__label {background-color: #d4ebff;}#sk-container-id-1 div.sk-serial::before {content: \"\";position: absolute;border-left: 1px solid gray;box-sizing: border-box;top: 0;bottom: 0;left: 50%;z-index: 0;}#sk-container-id-1 div.sk-serial {display: flex;flex-direction: column;align-items: center;background-color: white;padding-right: 0.2em;padding-left: 0.2em;position: relative;}#sk-container-id-1 div.sk-item {position: relative;z-index: 1;}#sk-container-id-1 div.sk-parallel {display: flex;align-items: stretch;justify-content: center;background-color: white;position: relative;}#sk-container-id-1 div.sk-item::before, #sk-container-id-1 div.sk-parallel-item::before {content: \"\";position: absolute;border-left: 1px solid gray;box-sizing: border-box;top: 0;bottom: 0;left: 50%;z-index: -1;}#sk-container-id-1 div.sk-parallel-item {display: flex;flex-direction: column;z-index: 1;position: relative;background-color: white;}#sk-container-id-1 div.sk-parallel-item:first-child::after {align-self: flex-end;width: 50%;}#sk-container-id-1 div.sk-parallel-item:last-child::after {align-self: flex-start;width: 50%;}#sk-container-id-1 div.sk-parallel-item:only-child::after {width: 0;}#sk-container-id-1 div.sk-dashed-wrapped {border: 1px dashed gray;margin: 0 0.4em 0.5em 0.4em;box-sizing: border-box;padding-bottom: 0.4em;background-color: white;}#sk-container-id-1 div.sk-label label {font-family: monospace;font-weight: bold;display: inline-block;line-height: 1.2em;}#sk-container-id-1 div.sk-label-container {text-align: center;}#sk-container-id-1 div.sk-container {/* jupyter's `normalize.less` sets `[hidden] { display: none; }` but bootstrap.min.css set `[hidden] { display: none !important; }` so we also need the `!important` here to be able to override the default hidden behavior on the sphinx rendered scikit-learn.org. See: https://github.com/scikit-learn/scikit-learn/issues/21755 */display: inline-block !important;position: relative;}#sk-container-id-1 div.sk-text-repr-fallback {display: none;}</style><div id=\"sk-container-id-1\" class=\"sk-top-container\"><div class=\"sk-text-repr-fallback\"><pre>GaussianNB()</pre><b>In a Jupyter environment, please rerun this cell to show the HTML representation or trust the notebook. <br />On GitHub, the HTML representation is unable to render, please try loading this page with nbviewer.org.</b></div><div class=\"sk-container\" hidden><div class=\"sk-item\"><div class=\"sk-estimator sk-toggleable\"><input class=\"sk-toggleable__control sk-hidden--visually\" id=\"sk-estimator-id-1\" type=\"checkbox\" checked><label for=\"sk-estimator-id-1\" class=\"sk-toggleable__label sk-toggleable__label-arrow\">GaussianNB</label><div class=\"sk-toggleable__content\"><pre>GaussianNB()</pre></div></div></div></div></div>"
      ],
      "text/plain": [
       "GaussianNB()"
      ]
     },
     "execution_count": 12,
     "metadata": {},
     "output_type": "execute_result"
    }
   ],
   "source": [
    "from sklearn.naive_bayes import GaussianNB\n",
    "model = GaussianNB()\n",
    "model.fit(X_train, y_train)"
   ]
  },
  {
   "cell_type": "markdown",
   "id": "447bcc72",
   "metadata": {
    "papermill": {
     "duration": 0.004485,
     "end_time": "2025-08-13T13:46:57.267339",
     "exception": false,
     "start_time": "2025-08-13T13:46:57.262854",
     "status": "completed"
    },
    "tags": []
   },
   "source": [
    "ayırdığımız test datası ile test ettiğimizde yüzde 98 lik bir başarı oranına eriştik. "
   ]
  },
  {
   "cell_type": "code",
   "execution_count": 13,
   "id": "57ffefb8",
   "metadata": {
    "execution": {
     "iopub.execute_input": "2025-08-13T13:46:57.278415Z",
     "iopub.status.busy": "2025-08-13T13:46:57.278054Z",
     "iopub.status.idle": "2025-08-13T13:46:57.290774Z",
     "shell.execute_reply": "2025-08-13T13:46:57.289654Z"
    },
    "papermill": {
     "duration": 0.02039,
     "end_time": "2025-08-13T13:46:57.292286",
     "exception": false,
     "start_time": "2025-08-13T13:46:57.271896",
     "status": "completed"
    },
    "tags": []
   },
   "outputs": [
    {
     "data": {
      "text/plain": [
       "0.9444444444444444"
      ]
     },
     "execution_count": 13,
     "metadata": {},
     "output_type": "execute_result"
    }
   ],
   "source": [
    "model.score(X_test, y_test)"
   ]
  }
 ],
 "metadata": {
  "kaggle": {
   "accelerator": "none",
   "dataSources": [],
   "dockerImageVersionId": 31089,
   "isGpuEnabled": false,
   "isInternetEnabled": true,
   "language": "python",
   "sourceType": "notebook"
  },
  "kernelspec": {
   "display_name": "Python 3",
   "language": "python",
   "name": "python3"
  },
  "language_info": {
   "codemirror_mode": {
    "name": "ipython",
    "version": 3
   },
   "file_extension": ".py",
   "mimetype": "text/x-python",
   "name": "python",
   "nbconvert_exporter": "python",
   "pygments_lexer": "ipython3",
   "version": "3.11.13"
  },
  "papermill": {
   "default_parameters": {},
   "duration": 9.801208,
   "end_time": "2025-08-13T13:46:57.917571",
   "environment_variables": {},
   "exception": null,
   "input_path": "__notebook__.ipynb",
   "output_path": "__notebook__.ipynb",
   "parameters": {},
   "start_time": "2025-08-13T13:46:48.116363",
   "version": "2.6.0"
  }
 },
 "nbformat": 4,
 "nbformat_minor": 5
}
